{
 "cells": [
  {
   "cell_type": "code",
   "execution_count": null,
   "metadata": {
    "colab": {},
    "colab_type": "code",
    "id": "BBD1fmmU5Km4",
    "outputId": "ebe29bf7-a3aa-4a5c-d162-f58391d0e434"
   },
   "outputs": [
    {
     "name": "stdout",
     "output_type": "stream",
     "text": [
      "2020-08-25 20:50:09.762445\n"
     ]
    }
   ],
   "source": [
    "import pandas as pd\n",
    "from pandasql import sqldf\n",
    "\n",
    "\n",
    "from datetime import datetime\n",
    "\n",
    "print(datetime.now())"
   ]
  },
  {
   "cell_type": "code",
   "execution_count": null,
   "metadata": {
    "colab": {},
    "colab_type": "code",
    "id": "GT4hH7dR5KnB"
   },
   "outputs": [],
   "source": [
    "nyc_data_sep = pd.read_csv(\"nyc_sample_data_for_sql_sep_2015.csv\")\n",
    "nyc_data_oct = pd.read_csv(\"nyc_sample_data_for_sql_oct_2015.csv\")"
   ]
  },
  {
   "cell_type": "code",
   "execution_count": null,
   "metadata": {
    "colab": {},
    "colab_type": "code",
    "id": "o3soXWbk5KnJ",
    "outputId": "ccf0f946-3788-403d-ad3b-b53104732334"
   },
   "outputs": [
    {
     "data": {
      "text/plain": [
       "pandas.core.frame.DataFrame"
      ]
     },
     "execution_count": 3,
     "metadata": {
      "tags": []
     },
     "output_type": "execute_result"
    }
   ],
   "source": [
    "type(nyc_data_sep)"
   ]
  },
  {
   "cell_type": "code",
   "execution_count": null,
   "metadata": {
    "colab": {},
    "colab_type": "code",
    "id": "mijzS_eA5KnP"
   },
   "outputs": [],
   "source": [
    "pysqldf = lambda q: sqldf(q, globals())"
   ]
  },
  {
   "cell_type": "code",
   "execution_count": null,
   "metadata": {
    "colab": {},
    "colab_type": "code",
    "id": "FWmtWE7t5KnT"
   },
   "outputs": [],
   "source": [
    "q = \"\"\"SELECT * FROM nyc_data_sep;\"\"\""
   ]
  },
  {
   "cell_type": "code",
   "execution_count": null,
   "metadata": {
    "colab": {},
    "colab_type": "code",
    "id": "8dzxnF0E5KnW",
    "outputId": "0cca54ea-64d9-4f78-fb2d-1203b71f2101"
   },
   "outputs": [
    {
     "data": {
      "text/plain": [
       "pandas.core.frame.DataFrame"
      ]
     },
     "execution_count": 6,
     "metadata": {
      "tags": []
     },
     "output_type": "execute_result"
    }
   ],
   "source": [
    "type(pysqldf(q))"
   ]
  },
  {
   "cell_type": "code",
   "execution_count": null,
   "metadata": {
    "colab": {},
    "colab_type": "code",
    "id": "1lpkpICj5Knb",
    "outputId": "55715418-a028-4ff0-e01a-4cd114fc63c4",
    "scrolled": true
   },
   "outputs": [
    {
     "data": {
      "text/html": [
       "<div>\n",
       "<style scoped>\n",
       "    .dataframe tbody tr th:only-of-type {\n",
       "        vertical-align: middle;\n",
       "    }\n",
       "\n",
       "    .dataframe tbody tr th {\n",
       "        vertical-align: top;\n",
       "    }\n",
       "\n",
       "    .dataframe thead th {\n",
       "        text-align: right;\n",
       "    }\n",
       "</style>\n",
       "<table border=\"1\" class=\"dataframe\">\n",
       "  <thead>\n",
       "    <tr style=\"text-align: right;\">\n",
       "      <th></th>\n",
       "      <th>VendorID</th>\n",
       "      <th>lpep_pickup_datetime</th>\n",
       "      <th>Lpep_dropoff_datetime</th>\n",
       "      <th>Store_and_fwd_flag</th>\n",
       "      <th>RateCodeID</th>\n",
       "      <th>Pickup_longitude</th>\n",
       "      <th>Pickup_latitude</th>\n",
       "      <th>Dropoff_longitude</th>\n",
       "      <th>Dropoff_latitude</th>\n",
       "      <th>Passenger_count</th>\n",
       "      <th>...</th>\n",
       "      <th>Tolls_amount</th>\n",
       "      <th>Ehail_fee</th>\n",
       "      <th>improvement_surcharge</th>\n",
       "      <th>Total_amount</th>\n",
       "      <th>Payment_type</th>\n",
       "      <th>Trip_type</th>\n",
       "      <th>lpep_pickup_hour</th>\n",
       "      <th>lpep_pickup_day_of_week</th>\n",
       "      <th>trip_id</th>\n",
       "      <th>driver_id</th>\n",
       "    </tr>\n",
       "  </thead>\n",
       "  <tbody>\n",
       "    <tr>\n",
       "      <th>0</th>\n",
       "      <td>2</td>\n",
       "      <td>2015-09-01 01:17:11</td>\n",
       "      <td>2015-09-01 01:23:01</td>\n",
       "      <td>N</td>\n",
       "      <td>1</td>\n",
       "      <td>-73.830284</td>\n",
       "      <td>40.759506</td>\n",
       "      <td>-73.813698</td>\n",
       "      <td>40.751537</td>\n",
       "      <td>2</td>\n",
       "      <td>...</td>\n",
       "      <td>0.0</td>\n",
       "      <td>None</td>\n",
       "      <td>0.3</td>\n",
       "      <td>7.80</td>\n",
       "      <td>2</td>\n",
       "      <td>1.0</td>\n",
       "      <td>1</td>\n",
       "      <td>Tuesday</td>\n",
       "      <td>1</td>\n",
       "      <td>2</td>\n",
       "    </tr>\n",
       "    <tr>\n",
       "      <th>1</th>\n",
       "      <td>2</td>\n",
       "      <td>2015-09-01 02:01:29</td>\n",
       "      <td>2015-09-01 02:22:58</td>\n",
       "      <td>N</td>\n",
       "      <td>1</td>\n",
       "      <td>-73.955322</td>\n",
       "      <td>40.720055</td>\n",
       "      <td>-73.906677</td>\n",
       "      <td>40.684845</td>\n",
       "      <td>1</td>\n",
       "      <td>...</td>\n",
       "      <td>0.0</td>\n",
       "      <td>None</td>\n",
       "      <td>0.3</td>\n",
       "      <td>22.56</td>\n",
       "      <td>1</td>\n",
       "      <td>1.0</td>\n",
       "      <td>2</td>\n",
       "      <td>Tuesday</td>\n",
       "      <td>2</td>\n",
       "      <td>2</td>\n",
       "    </tr>\n",
       "    <tr>\n",
       "      <th>2</th>\n",
       "      <td>2</td>\n",
       "      <td>2015-09-01 04:28:56</td>\n",
       "      <td>2015-09-01 04:28:58</td>\n",
       "      <td>N</td>\n",
       "      <td>5</td>\n",
       "      <td>0.000000</td>\n",
       "      <td>0.000000</td>\n",
       "      <td>-73.939354</td>\n",
       "      <td>40.788391</td>\n",
       "      <td>1</td>\n",
       "      <td>...</td>\n",
       "      <td>0.0</td>\n",
       "      <td>None</td>\n",
       "      <td>0.0</td>\n",
       "      <td>15.00</td>\n",
       "      <td>1</td>\n",
       "      <td>2.0</td>\n",
       "      <td>4</td>\n",
       "      <td>Tuesday</td>\n",
       "      <td>3</td>\n",
       "      <td>3</td>\n",
       "    </tr>\n",
       "    <tr>\n",
       "      <th>3</th>\n",
       "      <td>2</td>\n",
       "      <td>2015-09-01 06:56:55</td>\n",
       "      <td>2015-09-01 06:59:09</td>\n",
       "      <td>N</td>\n",
       "      <td>1</td>\n",
       "      <td>-73.914764</td>\n",
       "      <td>40.763802</td>\n",
       "      <td>-73.921127</td>\n",
       "      <td>40.766788</td>\n",
       "      <td>1</td>\n",
       "      <td>...</td>\n",
       "      <td>0.0</td>\n",
       "      <td>None</td>\n",
       "      <td>0.3</td>\n",
       "      <td>5.38</td>\n",
       "      <td>1</td>\n",
       "      <td>1.0</td>\n",
       "      <td>6</td>\n",
       "      <td>Tuesday</td>\n",
       "      <td>4</td>\n",
       "      <td>5</td>\n",
       "    </tr>\n",
       "    <tr>\n",
       "      <th>4</th>\n",
       "      <td>2</td>\n",
       "      <td>2015-09-01 07:54:44</td>\n",
       "      <td>2015-09-01 07:57:07</td>\n",
       "      <td>N</td>\n",
       "      <td>1</td>\n",
       "      <td>-73.894241</td>\n",
       "      <td>40.864166</td>\n",
       "      <td>-73.897781</td>\n",
       "      <td>40.870739</td>\n",
       "      <td>1</td>\n",
       "      <td>...</td>\n",
       "      <td>0.0</td>\n",
       "      <td>None</td>\n",
       "      <td>0.3</td>\n",
       "      <td>6.24</td>\n",
       "      <td>1</td>\n",
       "      <td>1.0</td>\n",
       "      <td>7</td>\n",
       "      <td>Tuesday</td>\n",
       "      <td>5</td>\n",
       "      <td>2</td>\n",
       "    </tr>\n",
       "    <tr>\n",
       "      <th>5</th>\n",
       "      <td>1</td>\n",
       "      <td>2015-09-01 07:55:42</td>\n",
       "      <td>2015-09-01 07:57:02</td>\n",
       "      <td>N</td>\n",
       "      <td>1</td>\n",
       "      <td>-73.945419</td>\n",
       "      <td>40.751495</td>\n",
       "      <td>-73.945435</td>\n",
       "      <td>40.751499</td>\n",
       "      <td>1</td>\n",
       "      <td>...</td>\n",
       "      <td>0.0</td>\n",
       "      <td>None</td>\n",
       "      <td>0.3</td>\n",
       "      <td>3.80</td>\n",
       "      <td>2</td>\n",
       "      <td>1.0</td>\n",
       "      <td>7</td>\n",
       "      <td>Tuesday</td>\n",
       "      <td>6</td>\n",
       "      <td>1</td>\n",
       "    </tr>\n",
       "    <tr>\n",
       "      <th>6</th>\n",
       "      <td>1</td>\n",
       "      <td>2015-09-01 08:14:39</td>\n",
       "      <td>2015-09-01 08:17:17</td>\n",
       "      <td>N</td>\n",
       "      <td>1</td>\n",
       "      <td>-73.891426</td>\n",
       "      <td>40.746685</td>\n",
       "      <td>-73.889717</td>\n",
       "      <td>40.739388</td>\n",
       "      <td>1</td>\n",
       "      <td>...</td>\n",
       "      <td>0.0</td>\n",
       "      <td>None</td>\n",
       "      <td>0.3</td>\n",
       "      <td>4.80</td>\n",
       "      <td>2</td>\n",
       "      <td>1.0</td>\n",
       "      <td>8</td>\n",
       "      <td>Tuesday</td>\n",
       "      <td>7</td>\n",
       "      <td>2</td>\n",
       "    </tr>\n",
       "    <tr>\n",
       "      <th>7</th>\n",
       "      <td>2</td>\n",
       "      <td>2015-09-01 08:14:46</td>\n",
       "      <td>2015-09-01 08:22:49</td>\n",
       "      <td>N</td>\n",
       "      <td>1</td>\n",
       "      <td>-73.876129</td>\n",
       "      <td>40.770210</td>\n",
       "      <td>-73.893578</td>\n",
       "      <td>40.747528</td>\n",
       "      <td>1</td>\n",
       "      <td>...</td>\n",
       "      <td>0.0</td>\n",
       "      <td>None</td>\n",
       "      <td>0.3</td>\n",
       "      <td>12.96</td>\n",
       "      <td>1</td>\n",
       "      <td>1.0</td>\n",
       "      <td>8</td>\n",
       "      <td>Tuesday</td>\n",
       "      <td>8</td>\n",
       "      <td>2</td>\n",
       "    </tr>\n",
       "    <tr>\n",
       "      <th>8</th>\n",
       "      <td>1</td>\n",
       "      <td>2015-09-01 08:42:12</td>\n",
       "      <td>2015-09-01 08:47:41</td>\n",
       "      <td>N</td>\n",
       "      <td>1</td>\n",
       "      <td>-73.942795</td>\n",
       "      <td>40.823231</td>\n",
       "      <td>-73.947701</td>\n",
       "      <td>40.830002</td>\n",
       "      <td>1</td>\n",
       "      <td>...</td>\n",
       "      <td>0.0</td>\n",
       "      <td>None</td>\n",
       "      <td>0.3</td>\n",
       "      <td>7.30</td>\n",
       "      <td>1</td>\n",
       "      <td>1.0</td>\n",
       "      <td>8</td>\n",
       "      <td>Tuesday</td>\n",
       "      <td>9</td>\n",
       "      <td>3</td>\n",
       "    </tr>\n",
       "    <tr>\n",
       "      <th>9</th>\n",
       "      <td>2</td>\n",
       "      <td>2015-09-01 09:13:08</td>\n",
       "      <td>2015-09-01 09:17:31</td>\n",
       "      <td>N</td>\n",
       "      <td>1</td>\n",
       "      <td>-73.983406</td>\n",
       "      <td>40.664742</td>\n",
       "      <td>-73.978668</td>\n",
       "      <td>40.670326</td>\n",
       "      <td>1</td>\n",
       "      <td>...</td>\n",
       "      <td>0.0</td>\n",
       "      <td>None</td>\n",
       "      <td>0.3</td>\n",
       "      <td>5.76</td>\n",
       "      <td>1</td>\n",
       "      <td>1.0</td>\n",
       "      <td>9</td>\n",
       "      <td>Tuesday</td>\n",
       "      <td>10</td>\n",
       "      <td>4</td>\n",
       "    </tr>\n",
       "  </tbody>\n",
       "</table>\n",
       "<p>10 rows × 25 columns</p>\n",
       "</div>"
      ],
      "text/plain": [
       "   VendorID lpep_pickup_datetime Lpep_dropoff_datetime Store_and_fwd_flag  \\\n",
       "0         2  2015-09-01 01:17:11   2015-09-01 01:23:01                  N   \n",
       "1         2  2015-09-01 02:01:29   2015-09-01 02:22:58                  N   \n",
       "2         2  2015-09-01 04:28:56   2015-09-01 04:28:58                  N   \n",
       "3         2  2015-09-01 06:56:55   2015-09-01 06:59:09                  N   \n",
       "4         2  2015-09-01 07:54:44   2015-09-01 07:57:07                  N   \n",
       "5         1  2015-09-01 07:55:42   2015-09-01 07:57:02                  N   \n",
       "6         1  2015-09-01 08:14:39   2015-09-01 08:17:17                  N   \n",
       "7         2  2015-09-01 08:14:46   2015-09-01 08:22:49                  N   \n",
       "8         1  2015-09-01 08:42:12   2015-09-01 08:47:41                  N   \n",
       "9         2  2015-09-01 09:13:08   2015-09-01 09:17:31                  N   \n",
       "\n",
       "   RateCodeID  Pickup_longitude  Pickup_latitude  Dropoff_longitude  \\\n",
       "0           1        -73.830284        40.759506         -73.813698   \n",
       "1           1        -73.955322        40.720055         -73.906677   \n",
       "2           5          0.000000         0.000000         -73.939354   \n",
       "3           1        -73.914764        40.763802         -73.921127   \n",
       "4           1        -73.894241        40.864166         -73.897781   \n",
       "5           1        -73.945419        40.751495         -73.945435   \n",
       "6           1        -73.891426        40.746685         -73.889717   \n",
       "7           1        -73.876129        40.770210         -73.893578   \n",
       "8           1        -73.942795        40.823231         -73.947701   \n",
       "9           1        -73.983406        40.664742         -73.978668   \n",
       "\n",
       "   Dropoff_latitude  Passenger_count  ...  Tolls_amount  Ehail_fee  \\\n",
       "0         40.751537                2  ...           0.0       None   \n",
       "1         40.684845                1  ...           0.0       None   \n",
       "2         40.788391                1  ...           0.0       None   \n",
       "3         40.766788                1  ...           0.0       None   \n",
       "4         40.870739                1  ...           0.0       None   \n",
       "5         40.751499                1  ...           0.0       None   \n",
       "6         40.739388                1  ...           0.0       None   \n",
       "7         40.747528                1  ...           0.0       None   \n",
       "8         40.830002                1  ...           0.0       None   \n",
       "9         40.670326                1  ...           0.0       None   \n",
       "\n",
       "   improvement_surcharge  Total_amount  Payment_type  Trip_type   \\\n",
       "0                    0.3          7.80             2         1.0   \n",
       "1                    0.3         22.56             1         1.0   \n",
       "2                    0.0         15.00             1         2.0   \n",
       "3                    0.3          5.38             1         1.0   \n",
       "4                    0.3          6.24             1         1.0   \n",
       "5                    0.3          3.80             2         1.0   \n",
       "6                    0.3          4.80             2         1.0   \n",
       "7                    0.3         12.96             1         1.0   \n",
       "8                    0.3          7.30             1         1.0   \n",
       "9                    0.3          5.76             1         1.0   \n",
       "\n",
       "  lpep_pickup_hour  lpep_pickup_day_of_week  trip_id  driver_id  \n",
       "0                1                  Tuesday        1          2  \n",
       "1                2                  Tuesday        2          2  \n",
       "2                4                  Tuesday        3          3  \n",
       "3                6                  Tuesday        4          5  \n",
       "4                7                  Tuesday        5          2  \n",
       "5                7                  Tuesday        6          1  \n",
       "6                8                  Tuesday        7          2  \n",
       "7                8                  Tuesday        8          2  \n",
       "8                8                  Tuesday        9          3  \n",
       "9                9                  Tuesday       10          4  \n",
       "\n",
       "[10 rows x 25 columns]"
      ]
     },
     "execution_count": 7,
     "metadata": {
      "tags": []
     },
     "output_type": "execute_result"
    }
   ],
   "source": [
    "pysqldf(q).head(10)"
   ]
  },
  {
   "cell_type": "code",
   "execution_count": null,
   "metadata": {
    "colab": {},
    "colab_type": "code",
    "id": "atCa2g3Q5Knf"
   },
   "outputs": [],
   "source": [
    "## Possible to assign as a variable\n",
    "test_df = pysqldf(q)"
   ]
  },
  {
   "cell_type": "code",
   "execution_count": null,
   "metadata": {
    "colab": {},
    "colab_type": "code",
    "id": "qDlQNA_V5Kni"
   },
   "outputs": [],
   "source": [
    "test_df.head()"
   ]
  },
  {
   "cell_type": "code",
   "execution_count": null,
   "metadata": {
    "colab": {},
    "colab_type": "code",
    "id": "YoGNy1xv5Knk"
   },
   "outputs": [],
   "source": [
    "## Test query\n",
    "q = \"\"\"\n",
    "        SELECT VendorID, sum(Total_amount) as 'Total Revenue' \n",
    "        FROM nyc_data_sep\n",
    "        GROUP BY VendorID;\"\"\"\n",
    "\n",
    "pysqldf(q)"
   ]
  },
  {
   "cell_type": "code",
   "execution_count": null,
   "metadata": {
    "colab": {},
    "colab_type": "code",
    "id": "QZq2h50P5Kno"
   },
   "outputs": [],
   "source": [
    "vendor_summary = pysqldf(q)\n",
    "\n",
    "vendor_summary"
   ]
  },
  {
   "cell_type": "code",
   "execution_count": null,
   "metadata": {
    "colab": {},
    "colab_type": "code",
    "id": "gwCVIybH5Knr"
   },
   "outputs": [],
   "source": [
    "## Let's start with something fun :)\n",
    "\n",
    "#  Creating dummy columns\n",
    "q = \"\"\"\n",
    "        SELECT lpep_pickup_datetime, null as'dummy_column_1', 2 as'dummy_column_2', 'dummy_column_3', 4, '5' FROM nyc_data_sep\n",
    "    \"\"\"\n",
    "\n",
    "print(pysqldf(q).dtypes)\n",
    "pysqldf(q).head()\n",
    "\n",
    "## Notice the different between 4 and '5'"
   ]
  },
  {
   "cell_type": "markdown",
   "metadata": {
    "colab_type": "text",
    "id": "CRdxHKJ-5Knu"
   },
   "source": [
    "### Q1"
   ]
  },
  {
   "cell_type": "code",
   "execution_count": null,
   "metadata": {
    "colab": {},
    "colab_type": "code",
    "id": "R65GxcBd5Knv"
   },
   "outputs": [],
   "source": [
    "#    1. Most expensive trip (total amount)\n",
    "q = \"\"\"\n",
    "        SELECT MAX(Total_amount) as 'Max Total Amonut' \n",
    "        FROM nyc_data_sep \n",
    "    \"\"\"\n",
    "pysqldf(q)"
   ]
  },
  {
   "cell_type": "code",
   "execution_count": null,
   "metadata": {
    "colab": {},
    "colab_type": "code",
    "id": "-XIzWQV85Knx"
   },
   "outputs": [],
   "source": [
    "#    1. Most expensive trip (total amount)\n",
    "# if we want to show the entire row not just the amount\n",
    "\n",
    "q = \"\"\"\n",
    "        SELECT * FROM nyc_data_sep\n",
    "        ORDER BY Total_amount desc\n",
    "        LIMIT 1        \n",
    "    \"\"\"\n",
    "pysqldf(q)"
   ]
  },
  {
   "cell_type": "code",
   "execution_count": null,
   "metadata": {
    "colab": {},
    "colab_type": "code",
    "id": "nXXITRS_5Kn0"
   },
   "outputs": [],
   "source": [
    "#    1. Most expensive trip (total amount)\n",
    "# if we want to show the row not just the amount\n",
    "\n",
    "q = \"\"\"\n",
    "        SELECT * FROM nyc_data_sep\n",
    "        WHERE Total_amount = (SELECT MAX(Total_amount) FROM nyc_data_sep)\n",
    "        \n",
    "    \"\"\"\n",
    "pysqldf(q)"
   ]
  },
  {
   "cell_type": "markdown",
   "metadata": {
    "colab_type": "text",
    "id": "UmArNIad5Kn4"
   },
   "source": [
    "### Q2"
   ]
  },
  {
   "cell_type": "code",
   "execution_count": null,
   "metadata": {
    "colab": {},
    "colab_type": "code",
    "id": "Ny5ZA-Ez5Kn4"
   },
   "outputs": [],
   "source": [
    "##    2. Most expensive trip per mile (total amout/mile)\n",
    "\n",
    "q = \"\"\"\n",
    "        SELECT MAX(Total_amount/Trip_distance) as 'Max Dollar/Mile' FROM nyc_data_sep\n",
    "        \n",
    "    \"\"\"\n",
    "pysqldf(q)"
   ]
  },
  {
   "cell_type": "code",
   "execution_count": null,
   "metadata": {
    "colab": {},
    "colab_type": "code",
    "id": "ewGhfJpK5Kn7"
   },
   "outputs": [],
   "source": [
    "##    2. Most expensive trip per mile (total amout/mile)\n",
    "# if we want to show the row not just the amount\n",
    "\n",
    "q = \"\"\"\n",
    "        SELECT *, MAX(Total_amount/Trip_distance) as 'Max Dollar/Mile' FROM nyc_data_sep\n",
    "        ORDER BY 'Max Dollar/Mile'\n",
    "        LIMIT 1\n",
    "    \"\"\"\n",
    "pysqldf(q)\n",
    "\n",
    "## Notice the quote of Max Dollar/Mile in ORDER BY"
   ]
  },
  {
   "cell_type": "code",
   "execution_count": null,
   "metadata": {
    "colab": {},
    "colab_type": "code",
    "id": "6QE1ezSc5Kn-"
   },
   "outputs": [],
   "source": [
    "##    2. Most expensive trip per mile (total amout/mile)\n",
    "# if we want to show the row not just the amount\n",
    "\n",
    "q = \"\"\"\n",
    "        SELECT *, MAX(Total_amount/Trip_distance) as 'Max Dollar/Mile' FROM nyc_data_sep\n",
    "        WHERE 'Max Dollar/Mile' = (SELECT MAX('Max Dollar/Mile') FROM nyc_data_sep)\n",
    "    \"\"\"\n",
    "print(pysqldf(q).dtypes) ## No need to print this.\n",
    "pysqldf(q)\n",
    "\n",
    "## Notice the quote of Max Dollar/Mile in WHERE and MAX"
   ]
  },
  {
   "cell_type": "markdown",
   "metadata": {
    "colab_type": "text",
    "id": "MoPLZCFg5KoB"
   },
   "source": [
    "### Q3"
   ]
  },
  {
   "cell_type": "code",
   "execution_count": null,
   "metadata": {
    "colab": {},
    "colab_type": "code",
    "id": "BD74u4P65KoC"
   },
   "outputs": [],
   "source": [
    "##   3. Most generous trip (highest tip)\n",
    "\n",
    "q = \"\"\"\n",
    "        SELECT MAX(Tip_amount) as 'Most Generous Tip' FROM nyc_data_sep\n",
    "    \"\"\"\n",
    "pysqldf(q)"
   ]
  },
  {
   "cell_type": "code",
   "execution_count": null,
   "metadata": {
    "colab": {},
    "colab_type": "code",
    "id": "nLdcuI9m5KoF"
   },
   "outputs": [],
   "source": [
    "##   3. Most generous trip (highest tip)\n",
    "# if we want to show the row not just the amount\n",
    "\n",
    "q = \"\"\"\n",
    "        SELECT *, MAX(Tip_amount) as 'Most Generous Tip' FROM nyc_data_sep\n",
    "        ORDER BY 'Most Generous Tip'\n",
    "        LIMIT 1\n",
    "    \"\"\"\n",
    "pysqldf(q)\n",
    "\n",
    "## Notice the quote of Most Generous Tip in ORDER BY"
   ]
  },
  {
   "cell_type": "code",
   "execution_count": null,
   "metadata": {
    "colab": {},
    "colab_type": "code",
    "id": "Tv5S-VlJ5KoH"
   },
   "outputs": [],
   "source": [
    "##   3. Most generous trip (highest tip)\n",
    "# if we want to show the row not just the amount\n",
    "\n",
    "q = \"\"\"\n",
    "        SELECT *, MAX(Tip_amount) as 'Most Generous Tip' FROM nyc_data_sep\n",
    "        WHERE 'Most Generous Tip' = (SELECT MAX('Most Generous Tip') FROM nyc_data_sep)\n",
    "    \"\"\"\n",
    "pysqldf(q)\n",
    "\n",
    "## Notice the quote of Most Generous Tip in WHERE and MAX"
   ]
  },
  {
   "cell_type": "markdown",
   "metadata": {
    "colab_type": "text",
    "id": "kds-RjrC5KoJ"
   },
   "source": [
    "### Q4"
   ]
  },
  {
   "cell_type": "code",
   "execution_count": null,
   "metadata": {
    "colab": {},
    "colab_type": "code",
    "id": "aJxkGNr65KoK",
    "scrolled": true
   },
   "outputs": [],
   "source": [
    "##    4. Longest trip duration\n",
    "\n",
    "q = \"\"\"\n",
    "        SELECT MAX(CAST(strftime('%s', Lpep_dropoff_datetime) as integer) - CAST(strftime('%s', lpep_pickup_datetime) as integer)) as 'MAX Trip Duration (Seconds)'\n",
    "        FROM nyc_data_sep\n",
    "    \"\"\"\n",
    "\n",
    "print(pysqldf(q).dtypes)\n",
    "pysqldf(q)\n"
   ]
  },
  {
   "cell_type": "code",
   "execution_count": null,
   "metadata": {
    "colab": {},
    "colab_type": "code",
    "id": "x8D1PLju5KoM",
    "scrolled": true
   },
   "outputs": [],
   "source": [
    "## As we did in Q1, Q2 and Q3 we can show the entire row.\n",
    "\n",
    "## Homework for DataScienceUS team: Show the entire row by:\n",
    "##  1. ORDER BY\n",
    "##  2. WHERE\n",
    "## (like in Q1, Q2 and Q3)"
   ]
  },
  {
   "cell_type": "markdown",
   "metadata": {
    "colab_type": "text",
    "id": "CvK0bM595KoP"
   },
   "source": [
    "### Q5\n"
   ]
  },
  {
   "cell_type": "code",
   "execution_count": null,
   "metadata": {
    "colab": {},
    "colab_type": "code",
    "id": "W3FlEgmY5KoQ"
   },
   "outputs": [],
   "source": [
    "##    5. Mean tip by hour\n",
    "\n",
    "q = \"\"\"\n",
    "        SELECT strftime('%H', lpep_pickup_datetime) as 'Hour', avg(Tip_amount) as 'Average Tip'\n",
    "        FROM nyc_data_sep\n",
    "        GROUP BY Hour\n",
    "    \"\"\"\n",
    "\n",
    "print(pysqldf(q).dtypes)\n",
    "\n",
    "pysqldf(q).head(5)\n"
   ]
  },
  {
   "cell_type": "code",
   "execution_count": null,
   "metadata": {
    "colab": {},
    "colab_type": "code",
    "id": "b2zqIpop5KoT"
   },
   "outputs": [],
   "source": [
    "##    5. Mean tip by hour\n",
    "##    Alternative: Writing column number instead of column name in group by\n",
    "\n",
    "q = \"\"\"\n",
    "        SELECT strftime('%H', lpep_pickup_datetime) as 'Hour', avg(Tip_amount) as 'Average Tip'\n",
    "        FROM nyc_data_sep\n",
    "        GROUP BY 1\n",
    "    \"\"\"\n",
    "\n",
    "print(pysqldf(q).dtypes)\n",
    "\n",
    "pysqldf(q).head(5)\n"
   ]
  },
  {
   "cell_type": "code",
   "execution_count": null,
   "metadata": {
    "colab": {},
    "colab_type": "code",
    "id": "drn1-Zi_5KoW"
   },
   "outputs": [],
   "source": [
    "##    5. Mean tip by hour\n",
    "\n",
    "### Notice that the code is failing, that is it does not give the intented result. Guess why?\n",
    "\n",
    "q = \"\"\"\n",
    "        SELECT strftime('%H', lpep_pickup_datetime) as 'Hour', avg(Tip_amount) as 'Average Tip'\n",
    "        FROM nyc_data_sep\n",
    "        GROUP BY 'Hour'\n",
    "    \"\"\"\n",
    "\n",
    "print(pysqldf(q).dtypes)\n",
    "\n",
    "pysqldf(q)"
   ]
  },
  {
   "cell_type": "markdown",
   "metadata": {
    "colab_type": "text",
    "id": "cxCzd2N25Koa"
   },
   "source": [
    "### Q6"
   ]
  },
  {
   "cell_type": "code",
   "execution_count": null,
   "metadata": {
    "colab": {},
    "colab_type": "code",
    "id": "-HSzTup_5Koa"
   },
   "outputs": [],
   "source": [
    "# ##   6. Median trip cost\n",
    "\n",
    "# q = \"\"\"\n",
    "\n",
    "#         Editor's note: The answer will be added later.\n",
    "    \n",
    "\n",
    "#     \"\"\"\n",
    "\n",
    "# print(pysqldf(q).dtypes)\n",
    "\n",
    "# pysqldf(q).head(10)"
   ]
  },
  {
   "cell_type": "markdown",
   "metadata": {
    "colab_type": "text",
    "id": "cVQQ0JSY5Kod"
   },
   "source": [
    "### Q7"
   ]
  },
  {
   "cell_type": "code",
   "execution_count": null,
   "metadata": {
    "colab": {},
    "colab_type": "code",
    "id": "P_s99IKC5Kod"
   },
   "outputs": [],
   "source": [
    "##    7. Average total trip by day of week (Fortunately, we have day of week information. \n",
    "## Otherwise, need to create a new date column without hours from date column. \n",
    "## Then, need to create \"day of week\" column, i.e Monday, Tuesday .. or 1, 2 ..,  from that new date column. \n",
    "## Total trip count should be found for each day, lastly average total trip should be calculated for each day)\n",
    "\n",
    "\n",
    "## Let's do step by step. \n",
    "## Note that a new Day_of_Week column is created although original data has this info. This is for demonstaration purpose. \n",
    "## Alternative solution will use the orginial day of week information instead of creating a new one.\n",
    "\n",
    "## The output of this query is trip count is each day, i.e 20150903, with day of week information\n",
    "## Note that 0 is Sunday\n",
    "\n",
    "q = \"\"\"\n",
    "        SELECT strftime('%Y%m%d', lpep_pickup_datetime) as 'Date', \n",
    "                strftime('%w', lpep_pickup_datetime) as 'Day_of_Week',\n",
    "                COUNT(*) as 'Daily_Trip_Count'\n",
    "        FROM nyc_data_sep\n",
    "        GROUP BY Date\n",
    "\n",
    "    \"\"\"\n",
    "\n",
    "pysqldf(q).head(10)\n"
   ]
  },
  {
   "cell_type": "code",
   "execution_count": null,
   "metadata": {
    "colab": {},
    "colab_type": "code",
    "id": "up7KnTvr5Kof"
   },
   "outputs": [],
   "source": [
    "## Let's put the query above in another query. You usually don't need to do that. I did so for demonstration purpose.\n",
    "## Note that there are 2 select statements. \n",
    "\n",
    "q = \"\"\"  SELECT * FROM\n",
    "        (SELECT strftime('%Y%m%d', lpep_pickup_datetime) as 'Date', \n",
    "                strftime('%w', lpep_pickup_datetime) as 'Day_of_Week',\n",
    "                COUNT(*) as 'Daily_Trip_Count'\n",
    "        FROM nyc_data_sep\n",
    "        GROUP BY Date)\n",
    "\n",
    "    \"\"\"\n",
    "\n",
    "pysqldf(q).head(10)"
   ]
  },
  {
   "cell_type": "code",
   "execution_count": null,
   "metadata": {
    "colab": {},
    "colab_type": "code",
    "id": "-whAMefl5Koj"
   },
   "outputs": [],
   "source": [
    "## I can select any column from the inner query and use it in the outer query.\n",
    "\n",
    "q = \"\"\"  SELECT Date, Daily_Trip_Count FROM\n",
    "        (SELECT strftime('%Y%m%d', lpep_pickup_datetime) as 'Date', \n",
    "                strftime('%w', lpep_pickup_datetime) as 'Day_of_Week',\n",
    "                COUNT(*) as 'Daily_Trip_Count'\n",
    "        FROM nyc_data_sep\n",
    "        GROUP BY Date)\n",
    "\n",
    "    \"\"\"\n",
    "\n",
    "pysqldf(q).head(10)"
   ]
  },
  {
   "cell_type": "code",
   "execution_count": null,
   "metadata": {
    "colab": {},
    "colab_type": "code",
    "id": "hxnPRR-u5Kol"
   },
   "outputs": [],
   "source": [
    "## We can also do operations, i.e. aggregation, on these columns\n",
    "## Notice that we have two group by statements. The latter is for the outer query.\n",
    "\n",
    "\n",
    "q = \"\"\"  SELECT Day_of_Week, AVG(Daily_Trip_Count) as Average_Daily_Trip_Count FROM\n",
    "        (SELECT strftime('%Y%m%d', lpep_pickup_datetime) as 'Date', \n",
    "                strftime('%w', lpep_pickup_datetime) as 'Day_of_Week',\n",
    "                COUNT(*) as 'Daily_Trip_Count'\n",
    "        FROM nyc_data_sep\n",
    "        GROUP BY Date)\n",
    "        GROUP BY Day_of_Week\n",
    "\n",
    "    \"\"\"\n",
    "\n",
    "print(pysqldf(q).dtypes)\n",
    "pysqldf(q).head(10)"
   ]
  },
  {
   "cell_type": "code",
   "execution_count": null,
   "metadata": {
    "colab": {},
    "colab_type": "code",
    "id": "WcRkzv205Kot"
   },
   "outputs": [],
   "source": [
    "## Making it more understable by recoding 0, 1 etc to Sunday, Monday etc\n",
    "\n",
    "\n",
    "q = \"\"\"  SELECT \n",
    "        CASE WHEN Day_of_Week = '0' THEN 'Sunday'\n",
    "             WHEN Day_of_Week = '1' THEN 'Monday'\n",
    "             WHEN Day_of_Week = '2' THEN 'Tuesday'\n",
    "             WHEN Day_of_Week = '3' THEN 'Wednesday'\n",
    "             WHEN Day_of_Week = '4' THEN 'Thursday'\n",
    "             WHEN Day_of_Week = '5' THEN 'Friday'\n",
    "             WHEN Day_of_Week = '6' THEN 'Saturday'\n",
    "            END as Day_of_Week,\n",
    "        AVG(Daily_Trip_Count) as Average_Daily_Trip_Count FROM\n",
    "        (SELECT strftime('%Y%m%d', lpep_pickup_datetime) as 'Date', \n",
    "                strftime('%w', lpep_pickup_datetime) as 'Day_of_Week',\n",
    "                COUNT(*) as 'Daily_Trip_Count'\n",
    "        FROM nyc_data_sep\n",
    "        GROUP BY Date)\n",
    "        GROUP BY Day_of_Week\n",
    "        ORDER BY Average_Daily_Trip_Count\n",
    "    \"\"\"\n",
    "\n",
    "print(pysqldf(q).dtypes)\n",
    "pysqldf(q).head(10)\n",
    "\n",
    "## Since Day_of_Week is object, we check for '0', '1' etc instead of 0, 1"
   ]
  },
  {
   "cell_type": "code",
   "execution_count": null,
   "metadata": {
    "colab": {},
    "colab_type": "code",
    "id": "dakVOLyC5Kov"
   },
   "outputs": [],
   "source": [
    "# Alternative by using the original day of week information instead of creating a new one.\n",
    "\n",
    "q = \"\"\"  SELECT lpep_pickup_day_of_week, AVG(Daily_Trip_Count) as Average_Daily_Trip_Count FROM\n",
    "        (SELECT strftime('%Y%m%d', lpep_pickup_datetime) as 'Date', \n",
    "                lpep_pickup_day_of_week,\n",
    "                COUNT(*) as 'Daily_Trip_Count'\n",
    "        FROM nyc_data_sep\n",
    "        GROUP BY Date)\n",
    "        GROUP BY lpep_pickup_day_of_week\n",
    "\n",
    "    \"\"\"\n",
    "\n",
    "print(pysqldf(q).dtypes)\n",
    "pysqldf(q).head(10)\n",
    "\n"
   ]
  },
  {
   "cell_type": "markdown",
   "metadata": {
    "colab_type": "text",
    "id": "rKe-1FCc5Kox"
   },
   "source": [
    "Notice that we solved this problem through so-called \"subquery\". "
   ]
  },
  {
   "cell_type": "markdown",
   "metadata": {
    "colab_type": "text",
    "id": "RChhXCID5Koy"
   },
   "source": [
    "### Q8"
   ]
  },
  {
   "cell_type": "code",
   "execution_count": null,
   "metadata": {
    "colab": {},
    "colab_type": "code",
    "id": "nJo79b2G5Koy"
   },
   "outputs": [],
   "source": [
    "##  8. Count of trips by hour (Luckily, we have hour column. Otherwise, a new hour column should be created from date column,\n",
    "## then count trip by hour)\n",
    "\n",
    "## Instead of using'lpep_pickup_hour', I create hour column by myself for practice purpose\n",
    "\n",
    "q = \"\"\"\n",
    "        SELECT strftime('%H', lpep_pickup_datetime) as 'Hour', count(*) as 'Trip Count'\n",
    "        FROM nyc_data_sep\n",
    "        GROUP BY Hour\n",
    "    \"\"\"\n",
    "\n",
    "print(pysqldf(q).dtypes)\n",
    "\n",
    "pysqldf(q).head(15)"
   ]
  },
  {
   "cell_type": "markdown",
   "metadata": {
    "colab_type": "text",
    "id": "hGJA9TQX5Ko0"
   },
   "source": [
    "### Q9"
   ]
  },
  {
   "cell_type": "code",
   "execution_count": null,
   "metadata": {
    "colab": {},
    "colab_type": "code",
    "id": "SIm_eq5o5Ko1"
   },
   "outputs": [],
   "source": [
    "###    9. Average passenger count per trip \n",
    "\n",
    "q = \"\"\"\n",
    "        SELECT AVG(Passenger_count) as 'AVG_PAX_PER_TRIP'\n",
    "        FROM nyc_data_sep\n",
    "    \"\"\"\n",
    "\n",
    "print(pysqldf(q).dtypes)\n",
    "\n",
    "pysqldf(q)"
   ]
  },
  {
   "cell_type": "markdown",
   "metadata": {
    "colab_type": "text",
    "id": "Aw9iOHkJ5Ko3"
   },
   "source": [
    "### Q10"
   ]
  },
  {
   "cell_type": "code",
   "execution_count": null,
   "metadata": {
    "colab": {},
    "colab_type": "code",
    "id": "B_Yw1ekA5Ko4"
   },
   "outputs": [],
   "source": [
    "#   10. Average passenger count per trip by hour\n",
    "\n",
    "q = \"\"\"\n",
    "        SELECT strftime('%H', lpep_pickup_datetime) as 'Hour', AVG(Passenger_count) as 'Avg_Pax_Per_Trip'\n",
    "        FROM nyc_data_sep\n",
    "        GROUP BY Hour\n",
    "    \"\"\"\n",
    "\n",
    "print(pysqldf(q).dtypes)\n",
    "\n",
    "pysqldf(q).head(15)"
   ]
  },
  {
   "cell_type": "code",
   "execution_count": null,
   "metadata": {
    "colab": {},
    "colab_type": "code",
    "id": "3LMv-ra-5Ko6"
   },
   "outputs": [],
   "source": [
    "## Here is a long solution\n",
    "\n",
    "q = \"\"\"\n",
    "        SELECT strftime('%H',lpep_pickup_datetime) as 'Hour', SUM(Passenger_count) as 'Total_Pax',\n",
    "        COUNT(*) as 'Trip_Count', CAST('Total_Pax'/'Trip_Count' as float)\n",
    "        as 'Avg_Pax_Per_Trip'\n",
    "        FROM nyc_data_sep\n",
    "        GROUP BY Hour\n",
    "    \"\"\"\n",
    "\n",
    "print(pysqldf(q).dtypes)\n",
    "\n",
    "pysqldf(q).head(15)\n",
    "\n",
    "## Why does this not spit the output we want? Any guess?"
   ]
  },
  {
   "cell_type": "code",
   "execution_count": null,
   "metadata": {
    "colab": {},
    "colab_type": "code",
    "id": "4vgCIyWr5Ko8"
   },
   "outputs": [],
   "source": [
    "q = \"\"\"\n",
    "        SELECT Hour, Total_Pax/Trip_Count as 'Avg_Pax_Per_Trip' FROM\n",
    "        (SELECT strftime('%H', lpep_pickup_datetime) as 'Hour', SUM(Passenger_count) as 'Total_Pax',\n",
    "        COUNT(*) as 'Trip_Count', 'dummy' as 'Avg_Pax_Per_Trip'\n",
    "        FROM nyc_data_sep\n",
    "        GROUP BY Hour)\n",
    "    \"\"\"\n",
    "\n",
    "print(pysqldf(q).dtypes)\n",
    "\n",
    "pysqldf(q).head(15)\n",
    "\n",
    "## Is this the right output? Check Avg_Pax_Per_Trip, which is 1 "
   ]
  },
  {
   "cell_type": "code",
   "execution_count": null,
   "metadata": {
    "colab": {},
    "colab_type": "code",
    "id": "tLkuwKQ15Ko_",
    "scrolled": true
   },
   "outputs": [],
   "source": [
    "## How about this trick?\n",
    "\n",
    "q = \"\"\"\n",
    "        SELECT Hour, Total_Pax*1.0/Trip_Count as 'Avg_Pax_Per_Trip' FROM\n",
    "        (SELECT strftime('%H', lpep_pickup_datetime) as 'Hour', SUM(Passenger_count) as 'Total_Pax',\n",
    "        COUNT(*) as 'Trip_Count', 'dummy' as 'Avg_Pax_Per_Trip'\n",
    "        FROM nyc_data_sep\n",
    "        GROUP BY Hour)\n",
    "    \"\"\"\n",
    "\n",
    "print(pysqldf(q).dtypes)\n",
    "\n",
    "pysqldf(q).head(15)\n",
    "\n",
    "## Notice 1.0 in the select column. Actually, multiplying integer with float ends up as float. Pretty neat!"
   ]
  },
  {
   "cell_type": "markdown",
   "metadata": {
    "colab_type": "text",
    "id": "-0Bl4Vyk5KpG"
   },
   "source": [
    "### Q11"
   ]
  },
  {
   "cell_type": "code",
   "execution_count": null,
   "metadata": {
    "colab": {},
    "colab_type": "code",
    "id": "Fl0XC9R25KpH"
   },
   "outputs": [],
   "source": [
    "##   11. Which airport welcomes more passenger: JFK or EWR? \n",
    "## Tip: check RateCodeID from data dictionary for the definition (2: JFK, 3: Newark)\n",
    "\n",
    "q = \"\"\"\n",
    "        SELECT RateCodeID, SUM(Passenger_count) as 'Total_Passenger'\n",
    "        FROM nyc_data_sep\n",
    "        WHERE RateCodeID = 2 OR RateCodeID = 3\n",
    "        GROUP BY RateCodeID\n",
    "    \"\"\"\n",
    "\n",
    "print(pysqldf(q).dtypes)\n",
    "\n",
    "pysqldf(q).head(15)"
   ]
  },
  {
   "cell_type": "code",
   "execution_count": null,
   "metadata": {
    "colab": {},
    "colab_type": "code",
    "id": "0pBD8xNG5KpK"
   },
   "outputs": [],
   "source": [
    "## How about this solution? \n",
    "\n",
    "q = \"\"\"\n",
    "        SELECT RateCodeID, SUM(Passenger_count) as 'Total_Passenger'\n",
    "        FROM nyc_data_sep\n",
    "        GROUP BY RateCodeID\n",
    "        HAVING RateCodeID = 2 OR RateCodeID = 3\n",
    "    \"\"\"\n",
    "\n",
    "print(pysqldf(q).dtypes)\n",
    "\n",
    "pysqldf(q).head(15)"
   ]
  },
  {
   "cell_type": "code",
   "execution_count": null,
   "metadata": {
    "colab": {},
    "colab_type": "code",
    "id": "l4UeIRQc5KpN"
   },
   "outputs": [],
   "source": [
    "## Homework for DataScienceUS team:\n",
    "## - What is the difference between 2 solution?\n",
    "## - Google WHERE vs HAVING please!"
   ]
  },
  {
   "cell_type": "code",
   "execution_count": null,
   "metadata": {
    "colab": {},
    "colab_type": "code",
    "id": "zu-KEOv_5KpQ"
   },
   "outputs": [],
   "source": [
    "## Here is a more readable solution\n",
    "\n",
    "q = \"\"\"\n",
    "        SELECT \n",
    "        CASE WHEN RateCodeID = 2 THEN 'JFK'\n",
    "             WHEN RateCodeID = 3 THEN 'EWR' END as 'Airport',\n",
    "        SUM(Passenger_count) as 'Total_Passenger'\n",
    "        FROM nyc_data_sep\n",
    "        GROUP BY RateCodeID\n",
    "        HAVING Airport = 'JFK' OR Airport = 'EWR'\n",
    "    \"\"\"\n",
    "\n",
    "print(pysqldf(q).dtypes)\n",
    "\n",
    "pysqldf(q)\n",
    "\n",
    "## We recoded 2 and 3 as JFK and EWR"
   ]
  },
  {
   "cell_type": "code",
   "execution_count": null,
   "metadata": {
    "colab": {},
    "colab_type": "code",
    "id": "ge7s3UWO5KpV"
   },
   "outputs": [],
   "source": [
    "## Could you notice the difference between this solution and the above one? Check having condition in both solution (Airport vs RateCodeID)\n",
    "\n",
    "q = \"\"\"\n",
    "        SELECT \n",
    "        CASE WHEN RateCodeID = 2 THEN 'JFK'\n",
    "             WHEN RateCodeID = 3 THEN 'EWR' END as 'Airport', \n",
    "             SUM(Passenger_count) as 'Total_Passenger'\n",
    "        FROM nyc_data_sep\n",
    "        GROUP BY RateCodeID\n",
    "        HAVING RateCodeID = 2 OR RateCodeID = 3\n",
    "    \"\"\"\n",
    "\n",
    "print(pysqldf(q).dtypes)\n",
    "\n",
    "pysqldf(q).head(15)"
   ]
  },
  {
   "cell_type": "markdown",
   "metadata": {
    "colab_type": "text",
    "id": "7AFMm-RM5KpX"
   },
   "source": [
    "### Q12"
   ]
  },
  {
   "cell_type": "code",
   "execution_count": null,
   "metadata": {
    "colab": {},
    "colab_type": "code",
    "id": "r4JzE98I5KpY"
   },
   "outputs": [],
   "source": [
    "## 12. How many nulls are there in Total_amount?\n",
    "\n",
    "q = \"\"\"\n",
    "        SELECT COUNT(*) Missing_Total_Amount\n",
    "        FROM nyc_data_sep\n",
    "        where Total_amount is null\n",
    "\n",
    "        \n",
    "    \"\"\"\n",
    "pysqldf(q).head()"
   ]
  },
  {
   "cell_type": "code",
   "execution_count": null,
   "metadata": {
    "colab": {},
    "colab_type": "code",
    "id": "c9wCdCh85Kpb"
   },
   "outputs": [],
   "source": [
    "## 12. How many nulls are there in Total_amount?\n",
    "\n",
    "# How about this? Is this a correct query? What is the risk?\n",
    "# Homework: Search \"how to count null values in SQL\"\n",
    "\n",
    "q = \"\"\"\n",
    "        SELECT COUNT(Total_amount) Missing_Total_Amount\n",
    "        FROM nyc_data_sep\n",
    "        where Total_amount is null\n",
    "\n",
    "        \n",
    "    \"\"\"\n",
    "pysqldf(q).head()"
   ]
  },
  {
   "cell_type": "markdown",
   "metadata": {
    "colab_type": "text",
    "id": "Q6R57jlh5Kpe"
   },
   "source": [
    "### Q13"
   ]
  },
  {
   "cell_type": "code",
   "execution_count": null,
   "metadata": {
    "colab": {},
    "colab_type": "code",
    "id": "wN8vEh4P5Kpe"
   },
   "outputs": [],
   "source": [
    "## 13. How many values are there in Trip_distance? (count of non-missing values)\n",
    "\n",
    "\n",
    "q = \"\"\"\n",
    "        SELECT COUNT(Trip_distance) Non_missing_trip_distance\n",
    "        FROM nyc_data_sep\n",
    "        where Trip_distance is not null\n",
    "\n",
    "        \n",
    "    \"\"\"\n",
    "pysqldf(q).head()"
   ]
  },
  {
   "cell_type": "markdown",
   "metadata": {
    "colab_type": "text",
    "id": "3fGAVr155Kph"
   },
   "source": [
    "### Q14"
   ]
  },
  {
   "cell_type": "code",
   "execution_count": null,
   "metadata": {
    "colab": {},
    "colab_type": "code",
    "id": "Kx1PYcWX5Kpi"
   },
   "outputs": [],
   "source": [
    "## 14. How many nulls are there in Ehail_fee? \n",
    "\n",
    "\n",
    "q = \"\"\"\n",
    "        SELECT count(Ehail_fee) Missing_Ehail_Fee\n",
    "        FROM nyc_data_sep\n",
    "        WHERE Ehail_fee is null\n",
    "        \n",
    "    \"\"\"\n",
    "pysqldf(q).head()\n",
    "\n",
    "## Oops. Is this the anticipated result?"
   ]
  },
  {
   "cell_type": "code",
   "execution_count": null,
   "metadata": {
    "colab": {},
    "colab_type": "code",
    "id": "4aXWfPdY5Kpk"
   },
   "outputs": [],
   "source": [
    "## 18. How many nulls are there in Ehail_fee? \n",
    "\n",
    "\n",
    "q = \"\"\"\n",
    "        SELECT count(*) Missing_Ehail_Fee FROM\n",
    "        (SELECT Ehail_fee\n",
    "        FROM nyc_data_sep\n",
    "        WHERE Ehail_fee is null)\n",
    "\n",
    "        \n",
    "    \"\"\"\n",
    "pysqldf(q).head()\n",
    "\n",
    "## Homework: How to count null values in SQL? Refer to the 2nd answer of Q12."
   ]
  },
  {
   "cell_type": "markdown",
   "metadata": {
    "colab_type": "text",
    "id": "gdXhKBY_5Kpm"
   },
   "source": [
    "### Q15"
   ]
  },
  {
   "cell_type": "code",
   "execution_count": null,
   "metadata": {
    "colab": {},
    "colab_type": "code",
    "id": "kCy83VT05Kpq"
   },
   "outputs": [],
   "source": [
    "## Q15. Find the trips of which trip distance is greater than 15 miles (included) or less than 0.1 mile (included).\n",
    "## It is possible to write this with only one where statement. However, this time write two queries and \"union\" them.\n",
    "## The purpose of this question is to use union function. You can consider this question as finding outliers in \n",
    "## a quick and dirty way, which you would do in your professional life too often.\n",
    "\n",
    "q = \"\"\"\n",
    "        SELECT *\n",
    "        FROM nyc_data_sep\n",
    "        WHERE Trip_distance <=0.1\n",
    "        UNION ALL\n",
    "        SELECT *\n",
    "        FROM nyc_data_sep\n",
    "        WHERE Trip_distance >=15\n",
    "        \n",
    "    \"\"\"\n",
    "\n",
    "\n",
    "\n",
    "print(len(pysqldf(q)))\n",
    "pysqldf(q).head()\n",
    "\n",
    "## Homework: UNION vs UNION ALL"
   ]
  },
  {
   "cell_type": "markdown",
   "metadata": {
    "colab_type": "text",
    "id": "yJeFgsF95Kpt"
   },
   "source": [
    "### Q16"
   ]
  },
  {
   "cell_type": "code",
   "execution_count": null,
   "metadata": {
    "colab": {},
    "colab_type": "code",
    "id": "e_BmZ7nZ5Kpu"
   },
   "outputs": [],
   "source": [
    "##  16. We would like to see the distribution (not like histogram) of Total_amount. Could you create buckets, or price range, \n",
    "## for Total_amount and find how many trips there are in each buckets? Each range would be 5, until 35, i.e. 0-5, 5-10,\n",
    "## 10-15 … 30-35, +35.\n",
    "\n",
    "# Alternative 1\n",
    "\n",
    "# Step 1: Create buckets for each total amount. This query will be \"inner query\"\n",
    "\n",
    "q = \"\"\"\n",
    "        SELECT Total_amount,\n",
    "               CASE WHEN Total_amount < 5 THEN '0 - 5'\n",
    "                    WHEN Total_amount >= 5 AND Total_amount < 10 THEN '10 - 15'\n",
    "                    WHEN Total_amount >= 10 AND Total_amount < 15 THEN '10 - 15'\n",
    "                    WHEN Total_amount >= 15 AND Total_amount < 20 THEN '15 - 20'\n",
    "                    WHEN Total_amount >= 20 AND Total_amount < 25 THEN '20 - 25'\n",
    "                    WHEN Total_amount >= 25 AND Total_amount < 30 THEN '25 - 30'\n",
    "                    WHEN Total_amount >= 30 AND Total_amount < 35 THEN '30 - 35'\n",
    "                    WHEN Total_amount >= 35 THEN '35+' END as Payment_Range_in_Dollars\n",
    "        FROM nyc_data_sep\n",
    "        \n",
    "    \"\"\"\n",
    "print(len(pysqldf(q)))\n",
    "pysqldf(q).head(10)"
   ]
  },
  {
   "cell_type": "code",
   "execution_count": null,
   "metadata": {
    "colab": {},
    "colab_type": "code",
    "id": "WbU8g2z95Kpy"
   },
   "outputs": [],
   "source": [
    "##  16. We would like to see the distribution (not like histogram) of Total_amount. Could you create buckets, or price range, \n",
    "## for Total_amount and find how many trips there are in each buckets? Each range would be 5, until 35, i.e. 0-5, 5-10,\n",
    "## 10-15 … 30-35, +35.\n",
    "\n",
    "# Alternative 1\n",
    "\n",
    "# Step 2: Count trips with outer query.\n",
    "\n",
    "q = \"\"\"\n",
    "        SELECT Payment_Range_in_Dollars, count(*) Trip_Count FROM\n",
    "        (SELECT Total_amount,\n",
    "               CASE WHEN Total_amount < 5 THEN '0 - 5'\n",
    "                    WHEN Total_amount >= 5 AND Total_amount < 10 THEN '10 - 15'\n",
    "                    WHEN Total_amount >= 10 AND Total_amount < 15 THEN '10 - 15'\n",
    "                    WHEN Total_amount >= 15 AND Total_amount < 20 THEN '15 - 20'\n",
    "                    WHEN Total_amount >= 20 AND Total_amount < 25 THEN '20 - 25'\n",
    "                    WHEN Total_amount >= 25 AND Total_amount < 30 THEN '25 - 30'\n",
    "                    WHEN Total_amount >= 30 AND Total_amount < 35 THEN '30 - 35'\n",
    "                    WHEN Total_amount >= 35 THEN '35+' END as Payment_Range_in_Dollars\n",
    "        FROM nyc_data_sep)\n",
    "        GROUP BY Payment_Range_in_Dollars\n",
    "        \n",
    "    \"\"\"\n",
    "pysqldf(q)"
   ]
  },
  {
   "cell_type": "code",
   "execution_count": null,
   "metadata": {
    "colab": {},
    "colab_type": "code",
    "id": "uV0rpaJz5Kp2"
   },
   "outputs": [],
   "source": [
    "##  16. We would like to see the distribution (not like histogram) of Total_amount. Could you create buckets, or price range, \n",
    "## for Total_amount and find how many trips there are in each buckets? Each range would be 5, until 35, i.e. 0-5, 5-10,\n",
    "## 10-15 … 30-35, +35.\n",
    "\n",
    "# Alternative 2\n",
    "\n",
    "# How about this?\n",
    "\n",
    "\n",
    "q = \"\"\"\n",
    "        SELECT \n",
    "               CASE WHEN Total_amount < 5 THEN '0 - 5'\n",
    "                    WHEN Total_amount >= 5 AND Total_amount < 10 THEN '10 - 15'\n",
    "                    WHEN Total_amount >= 10 AND Total_amount < 15 THEN '10 - 15'\n",
    "                    WHEN Total_amount >= 15 AND Total_amount < 20 THEN '15 - 20'\n",
    "                    WHEN Total_amount >= 20 AND Total_amount < 25 THEN '20 - 25'\n",
    "                    WHEN Total_amount >= 25 AND Total_amount < 30 THEN '25 - 30'\n",
    "                    WHEN Total_amount >= 30 AND Total_amount < 35 THEN '30 - 35'\n",
    "                    WHEN Total_amount >= 35 THEN '35+' END as Payment_Range_in_Dollars,\n",
    "                COUNT(*) Trip_Count\n",
    "        FROM nyc_data_sep\n",
    "        GROUP BY Payment_Range_in_Dollars\n",
    "        \n",
    "    \"\"\"\n",
    "pysqldf(q)"
   ]
  }
 ],
 "metadata": {
  "colab": {
   "name": "NYC_Taxi_SQL_DataScienceUS_Answers_Between_Q1_Q16_08_25_2020.ipynb",
   "provenance": []
  },
  "kernelspec": {
   "display_name": "Python 3",
   "language": "python",
   "name": "python3"
  },
  "language_info": {
   "codemirror_mode": {
    "name": "ipython",
    "version": 3
   },
   "file_extension": ".py",
   "mimetype": "text/x-python",
   "name": "python",
   "nbconvert_exporter": "python",
   "pygments_lexer": "ipython3",
   "version": "3.7.6"
  }
 },
 "nbformat": 4,
 "nbformat_minor": 1
}
